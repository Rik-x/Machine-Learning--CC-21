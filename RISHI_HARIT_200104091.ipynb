{
 "cells": [
  {
   "cell_type": "code",
   "execution_count": null,
   "metadata": {},
   "outputs": [],
   "source": [
    "'''\n",
    "\n",
    "\"MACHINE LEARNING TASK\"\n",
    "\n",
    "Roll - 200104091\n",
    "Libraries used --> 1. pandas 2. sklearn\n",
    "Model Used --> Linear Regression & KNeighborsClassifier\n",
    "\n",
    "NOTES - \n",
    "1. Give time for execution of each cell as the data set is large and processing may take time.\n",
    "2. Comments are made in between program for ease of understanding of user.\n",
    "\n",
    "'''"
   ]
  },
  {
   "cell_type": "code",
   "execution_count": null,
   "metadata": {},
   "outputs": [],
   "source": [
    "#Reading data\n",
    "import pandas as pd \n",
    "df = pd.read_csv('task2.csv')"
   ]
  },
  {
   "cell_type": "code",
   "execution_count": null,
   "metadata": {},
   "outputs": [],
   "source": [
    "#Changing answer cases to numerical type for evaluation inclusion\n",
    "df.loc[df['Answer'] == 'No', 'Answer'] = 0\n",
    "df.loc[df['Answer'] == \"I don't use Tinder\", 'Answer'] = 2\n",
    "df.loc[df['Answer'] == 'Yes', 'Answer'] = 1\n",
    "df_2 = df"
   ]
  },
  {
   "cell_type": "code",
   "execution_count": null,
   "metadata": {},
   "outputs": [],
   "source": [
    "#Choosing Evaluation Parameter \n",
    "Cat_1 = 'Answer'\n",
    "Cat_2 = 'Count'\n",
    "Cat_3 = 'Percentage'\n",
    "print(\"Press 'x' for data evaluation parameter \\n\")\n",
    "print(\" 1 . Answer \\n 2. Count \\n 3. Percentage \\n Enter Choice :   \")\n",
    "para = int(input()) \n",
    "if (para==1):\n",
    "    ch = Cat_1\n",
    "elif (para==2):\n",
    "    ch = Cat_2\n",
    "elif (para==3):\n",
    "    ch = Cat_3\n",
    "else:\n",
    "    print(\"INVALID CHOICE\")"
   ]
  },
  {
   "cell_type": "code",
   "execution_count": null,
   "metadata": {},
   "outputs": [],
   "source": [
    "#Defining Variables\n",
    "from sklearn.model_selection import train_test_split\n",
    "\n",
    "df_X = df_2[['It became a relationship']]\n",
    "df_Y = df_2[[ch]]\n",
    "X_train , X_test , y_train , y_test = train_test_split(df_X,df_Y,test_size =0.2,random_state=0)"
   ]
  },
  {
   "cell_type": "code",
   "execution_count": null,
   "metadata": {},
   "outputs": [],
   "source": [
    "#Selecting Linear Regression Model\n",
    "from sklearn.linear_model import LinearRegression\n",
    "\n",
    "#instantiate the model \n",
    "logreg = LinearRegression()\n",
    "\n",
    "# fit the model with data\n",
    "logreg.fit(X_train,y_train)\n",
    "\n",
    "y_pred=logreg.predict(X_test)"
   ]
  },
  {
   "cell_type": "code",
   "execution_count": null,
   "metadata": {},
   "outputs": [],
   "source": [
    "#Accuracy of predictor\n",
    "logreg.score(X_test,y_test)\n",
    "print('Accuracy of logistic regression classifier on test set: {:.2f}'.format(logreg.score(X_test, y_test)))\n",
    "print('Accuracy Percentage : {:.2f}'.format(logreg.score(X_test, y_test)*100) )"
   ]
  },
  {
   "cell_type": "code",
   "execution_count": null,
   "metadata": {},
   "outputs": [],
   "source": [
    "from sklearn.preprocessing import StandardScaler\n",
    "scaler = StandardScaler()\n",
    "scaler.fit(X_train)\n",
    "\n",
    "X_train = scaler.transform(X_train)\n",
    "X_test = scaler.transform(X_test)"
   ]
  },
  {
   "cell_type": "code",
   "execution_count": null,
   "metadata": {},
   "outputs": [],
   "source": [
    "#Selecting KNeighborsClassifier Model\n",
    "from sklearn.neighbors import KNeighborsClassifier\n",
    "\n",
    "#Conversion so that data type error does not occur\n",
    "y_train=y_train.astype('int')\n",
    "y_test=y_test.astype('int')\n",
    "\n",
    "classifier = KNeighborsClassifier(n_neighbors=5)\n",
    "classifier.fit(X_train,y_train)"
   ]
  },
  {
   "cell_type": "code",
   "execution_count": null,
   "metadata": {},
   "outputs": [],
   "source": [
    "y_pred=classifier.predict(X_test)\n",
    "\n",
    "#Showing Accuracy \n",
    "from sklearn import metrics\n",
    "\n",
    "print('Accuracy of KNeighborsClassifier classifier on test set: {:.2f}'.format(metrics.accuracy_score(y_test, y_pred)))\n",
    "\n",
    "metrics.accuracy_score(y_test, y_pred)\n",
    "print('Accuracy Percentage : {:.2f}'.format(metrics.accuracy_score(y_test, y_pred)*100) )"
   ]
  }
 ],
 "metadata": {
  "kernelspec": {
   "display_name": "Python 3",
   "language": "python",
   "name": "python3"
  },
  "language_info": {
   "codemirror_mode": {
    "name": "ipython",
    "version": 3
   },
   "file_extension": ".py",
   "mimetype": "text/x-python",
   "name": "python",
   "nbconvert_exporter": "python",
   "pygments_lexer": "ipython3",
   "version": "3.8.5"
  }
 },
 "nbformat": 4,
 "nbformat_minor": 4
}
